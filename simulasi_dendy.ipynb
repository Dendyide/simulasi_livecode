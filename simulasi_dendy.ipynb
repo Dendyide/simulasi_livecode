{
 "cells": [
  {
   "cell_type": "code",
   "execution_count": null,
   "metadata": {},
   "outputs": [
    {
     "ename": "",
     "evalue": "",
     "output_type": "error",
     "traceback": [
      "\u001b[1;31mRunning cells with 'c:\\Users\\dwina\\AppData\\Local\\Programs\\Python\\Python312\\python.exe' requires the ipykernel package.\n",
      "\u001b[1;31mRun the following command to install 'ipykernel' into the Python environment. \n",
      "\u001b[1;31mCommand: 'c:/Users/dwina/AppData/Local/Programs/Python/Python312/python.exe -m pip install ipykernel -U --user --force-reinstall'"
     ]
    }
   ],
   "source": [
    "class stock:\n",
    "    def __init__(self, name, kategori, harga):\n",
    "         self.name = name\n",
    "         self.kategori = kategori\n",
    "         self.harga = harga\n",
    "         self.stock = 0\n",
    "\n",
    "    def totalStock(self):\n",
    "        return self.harga * self.stock\n",
    "    \n",
    "    def __str__(self):\n",
    "         return f'(Nama Barang : {self.name}), (Kategori: {self.kategori}), (harga: {self.harga}), (Stock : {self.stock})'\n",
    "    \n",
    "class transaction:\n",
    "    def __init__(self):\n",
    "          self.item = []\n",
    "\n",
    "    def addedItem(self):\n",
    "         while True:\n",
    "            pilihanMenu = input('pilihan menu: ')\n",
    "            if pilihanMenu == '1':\n",
    "                 mylist = str(input('masukan barang: '))\n",
    "                 self.item += mylist\n",
    "                 return mylist\n",
    "            elif pilihanMenu == '2':\n",
    "                 if self.item == []:\n",
    "                      return print (f'(kamu tidak punya barang inventori. silahkan pilih menu 1 untuk mengisi inventori)')\n",
    "                 elif self.item == self.item:\n",
    "                      return self.item\n",
    "            elif pilihanMenu == '3':\n",
    "                 return False\n",
    "            else:\n",
    "                 return f'(pilihan menu hanya 1, 2, 3)'\n",
    "                    \n",
    "stock = stock('rinso', 'detergen', 15000)\n",
    "transaction = transaction()\n",
    "\n",
    "transaction.addedItem()\n",
    "transaction.addedItem()"
   ]
  },
  {
   "cell_type": "code",
   "execution_count": null,
   "metadata": {},
   "outputs": [],
   "source": []
  },
  {
   "cell_type": "markdown",
   "metadata": {},
   "source": []
  }
 ],
 "metadata": {
  "kernelspec": {
   "display_name": "Python 3",
   "language": "python",
   "name": "python3"
  },
  "language_info": {
   "codemirror_mode": {
    "name": "ipython",
    "version": 3
   },
   "file_extension": ".py",
   "mimetype": "text/x-python",
   "name": "python",
   "nbconvert_exporter": "python",
   "pygments_lexer": "ipython3",
   "version": "3.12.2"
  }
 },
 "nbformat": 4,
 "nbformat_minor": 2
}
